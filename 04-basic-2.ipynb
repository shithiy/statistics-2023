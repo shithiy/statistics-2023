{
 "cells": [
  {
   "cell_type": "code",
   "execution_count": 21,
   "metadata": {},
   "outputs": [
    {
     "name": "stdout",
     "output_type": "stream",
     "text": [
      "xxx\n"
     ]
    }
   ],
   "source": [
    "students = [  \n",
    "    {\"姓名\": \"张三\", \"学号\": \"20230501\", \"github仓库地址\": \"xxx\"},  \n",
    "    {\"姓名\": \"李四\", \"学号\": \"20230502\", \"github仓库地址\": \"xxx\"},  \n",
    "    {\"姓名\": \"王五\", \"学号\": \"20230503\", \"github仓库地址\": \"xxx\"},  \n",
    "    {\"姓名\": \"赵六\", \"学号\": \"20230504\", \"github仓库地址\": \"xxx\"},  \n",
    "    {\"姓名\": \"孙七\", \"学号\": \"20230505\", \"github仓库地址\": \"xxx\"},  \n",
    "    {\"姓名\": \"周八\", \"学号\": \"20230506\", \"github仓库地址\": \"xxx\"},  \n",
    "    {\"姓名\": \"吴九\", \"学号\": \"20230507\", \"github仓库地址\": \"xxx\"},  \n",
    "    {\"姓名\": \"郑十\", \"学号\": \"20230508\", \"github仓库地址\": \"xxx\"},  \n",
    "    {\"姓名\": \"冯十一\", \"学号\": \"20230509\", \"github仓库地址\": \"xxx\"},  \n",
    "    {\"姓名\": \"陈十二\", \"学号\": \"20230510\", \"github仓库地址\": \"xxx\"}  \n",
    "]\n",
    "# 假设您已经知道要筛选的姓名  \n",
    "target_name = \"张三\"  \n",
    "  \n",
    "# 遍历列表中的每个字典元素  \n",
    "for info in students:  \n",
    "    # 如果姓名与目标姓名匹配，则打印对应的github仓库地址  \n",
    "    if info[\"姓名\"] == target_name:  \n",
    "        print(info[\"github仓库地址\"])"
   ]
  },
  {
   "cell_type": "code",
   "execution_count": 22,
   "metadata": {},
   "outputs": [],
   "source": [
    "def get_repo_by_name(name,students):\n",
    "    for student in students:\n",
    "        if student[\"姓名\"] ==name:\n",
    "            print(student[\"github仓库地址\"])"
   ]
  },
  {
   "cell_type": "code",
   "execution_count": 23,
   "metadata": {},
   "outputs": [],
   "source": [
    "def get_repo_by_name(name,data):\n",
    "    for i in data:\n",
    "        if i[\"姓名\"] ==name:\n",
    "            print(i[\"github仓库地址\"])"
   ]
  },
  {
   "cell_type": "code",
   "execution_count": 24,
   "metadata": {},
   "outputs": [
    {
     "name": "stdout",
     "output_type": "stream",
     "text": [
      "xxx\n"
     ]
    }
   ],
   "source": [
    "get_repo_by_name('李四',students)"
   ]
  },
  {
   "cell_type": "code",
   "execution_count": 28,
   "metadata": {},
   "outputs": [
    {
     "data": {
      "text/plain": [
       "'xxx'"
      ]
     },
     "execution_count": 28,
     "metadata": {},
     "output_type": "execute_result"
    }
   ],
   "source": [
    "get_repo_by_name(name='李四',data=students)"
   ]
  },
  {
   "cell_type": "code",
   "execution_count": 27,
   "metadata": {},
   "outputs": [],
   "source": [
    "def get_repo_by_name2(name,data=students):\n",
    "    for i in students:\n",
    "        if i[\"姓名\"] ==name:\n",
    "            return(i[\"github仓库地址\"])"
   ]
  },
  {
   "cell_type": "code",
   "execution_count": 26,
   "metadata": {},
   "outputs": [
    {
     "name": "stdout",
     "output_type": "stream",
     "text": [
      "xxx\n"
     ]
    }
   ],
   "source": [
    "print(get_repo_by_name('李四',students))"
   ]
  },
  {
   "cell_type": "code",
   "execution_count": 2,
   "metadata": {},
   "outputs": [],
   "source": [
    "def 函数名称(参数1,参数2):\n",
    "    print(参数1,参数2)"
   ]
  },
  {
   "cell_type": "code",
   "execution_count": 3,
   "metadata": {},
   "outputs": [
    {
     "name": "stdout",
     "output_type": "stream",
     "text": [
      "1 2\n"
     ]
    }
   ],
   "source": [
    "函数名称(1,2)"
   ]
  }
 ],
 "metadata": {
  "kernelspec": {
   "display_name": "Python 3",
   "language": "python",
   "name": "python3"
  },
  "language_info": {
   "codemirror_mode": {
    "name": "ipython",
    "version": 3
   },
   "file_extension": ".py",
   "mimetype": "text/x-python",
   "name": "python",
   "nbconvert_exporter": "python",
   "pygments_lexer": "ipython3",
   "version": "3.8.10"
  },
  "orig_nbformat": 4
 },
 "nbformat": 4,
 "nbformat_minor": 2
}
