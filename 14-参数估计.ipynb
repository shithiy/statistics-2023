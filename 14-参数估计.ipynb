{
 "cells": [
  {
   "cell_type": "code",
   "execution_count": 39,
   "metadata": {},
   "outputs": [],
   "source": [
    "import pandas as pd\n",
    "from scipy import stats\n",
    "# 打开数据文件\n",
    "file_path = R'data\\movie_data_cleaned.csv'\n",
    "df_movies = pd.read_csv(file_path)"
   ]
  },
  {
   "cell_type": "code",
   "execution_count": 40,
   "metadata": {},
   "outputs": [
    {
     "name": "stdout",
     "output_type": "stream",
     "text": [
      "均值:7.20\n",
      "均值在置信水平0.95下的置信区间: (7.171337577574299, 7.221418479034002)\n"
     ]
    }
   ],
   "source": [
    "# 计算均值和标准误差\n",
    "mean = df_movies['average'].mean()\n",
    "std_error = stats.sem(df_movies['average'])\n",
    "# 设置置信水平\n",
    "confidence_level = 0.95\n",
    "# 设定自由度\n",
    "df = len(df_movies['average'])\n",
    "# 计算置信区间\n",
    "comfidence_interval = stats.t.interval(confidence_level,df,loc=mean,scale=std_error)\n",
    "# 输出结果\n",
    "print(f\"均值:{mean:.2f}\")  \n",
    "print(f\"均值在置信水平{confidence_level}下的置信区间: {comfidence_interval}\")"
   ]
  },
  {
   "cell_type": "code",
   "execution_count": 41,
   "metadata": {},
   "outputs": [
    {
     "name": "stdout",
     "output_type": "stream",
     "text": [
      "样本均值: 18676.36556291391\n",
      "95%置信区间: (array([18074.15001975, 18676.12442932,            nan,            nan,\n",
      "                  nan,            nan,            nan,            nan]), array([19278.58110608, 18676.60669651,            nan,            nan,\n",
      "                  nan,            nan,            nan,            nan]))\n"
     ]
    }
   ],
   "source": [
    "import pandas as pd  \n",
    "import numpy as np  \n",
    "from scipy import stats  \n",
    "  \n",
    "# 读取数据文件  \n",
    "data = pd.read_csv(R'data/movie_data_cleaned.csv')  \n",
    "  \n",
    "# 从总体中随机抽取100行数据  \n",
    "sample = data.sample(n=100)  \n",
    "  \n",
    "# 将数据转换为数值类型（如果需要）  \n",
    "sample = sample.apply(pd.to_numeric, errors='coerce')  \n",
    "  \n",
    "# 计算样本的均值  \n",
    "mean = np.mean(sample)  \n",
    "print(f\"样本均值: {mean}\")  \n",
    "  \n",
    "# 计算95%置信水平对应的置信区间  \n",
    "confidence_interval = stats.t.interval(0.95, len(sample)-1, loc=mean, scale=stats.sem(sample))  \n",
    "print(f\"95%置信区间: {confidence_interval}\")"
   ]
  }
 ],
 "metadata": {
  "kernelspec": {
   "display_name": "Python 3",
   "language": "python",
   "name": "python3"
  },
  "language_info": {
   "codemirror_mode": {
    "name": "ipython",
    "version": 3
   },
   "file_extension": ".py",
   "mimetype": "text/x-python",
   "name": "python",
   "nbconvert_exporter": "python",
   "pygments_lexer": "ipython3",
   "version": "3.8.10"
  }
 },
 "nbformat": 4,
 "nbformat_minor": 2
}
