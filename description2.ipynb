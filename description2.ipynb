{
 "cells": [
  {
   "cell_type": "code",
   "execution_count": 1,
   "metadata": {},
   "outputs": [],
   "source": [
    "import pandas as pd\n",
    "import matplotlib.pyplot as plt\n",
    "from pyreadstat import pyreadstat\n",
    "import mytools\n",
    "国家认同调查数据表,metadata = pyreadstat.read_sav(R'data\\identity.sav',apply_value_formats=True,formats_as_ordered_category=True)\n",
    "result = 国家认同调查数据表['会打多少分'].value_counts(sort = False)\n",
    "\n"
   ]
  },
  {
   "cell_type": "code",
   "execution_count": 2,
   "metadata": {},
   "outputs": [
    {
     "ename": "AttributeError",
     "evalue": "module 'mytools' has no attribute '有序变量描述统计函数'",
     "output_type": "error",
     "traceback": [
      "\u001b[1;31m---------------------------------------------------------------------------\u001b[0m",
      "\u001b[1;31mAttributeError\u001b[0m                            Traceback (most recent call last)",
      "\u001b[1;32mc:\\Users\\lenovo\\Desktop\\statistics-2023\\description2.ipynb 单元格 2\u001b[0m line \u001b[0;36m1\n\u001b[1;32m----> <a href='vscode-notebook-cell:/c%3A/Users/lenovo/Desktop/statistics-2023/description2.ipynb#W1sZmlsZQ%3D%3D?line=0'>1</a>\u001b[0m 描述统计结果表 \u001b[39m=\u001b[39m mytools\u001b[39m.\u001b[39;49m有序变量描述统计函数(国家认同调查数据表,\u001b[39m'\u001b[39m\u001b[39m您觉得中国怎么样\u001b[39m\u001b[39m'\u001b[39m)\n\u001b[0;32m      <a href='vscode-notebook-cell:/c%3A/Users/lenovo/Desktop/statistics-2023/description2.ipynb#W1sZmlsZQ%3D%3D?line=1'>2</a>\u001b[0m 描述统计结果表\n",
      "\u001b[1;31mAttributeError\u001b[0m: module 'mytools' has no attribute '有序变量描述统计函数'"
     ]
    }
   ],
   "source": [
    "描述统计结果表 = mytools.有序变量描述统计函数(国家认同调查数据表,'您觉得中国怎么样')\n",
    "描述统计结果表"
   ]
  },
  {
   "cell_type": "code",
   "execution_count": 3,
   "metadata": {},
   "outputs": [
    {
     "ename": "NameError",
     "evalue": "name '描述统计结果表' is not defined",
     "output_type": "error",
     "traceback": [
      "\u001b[1;31m---------------------------------------------------------------------------\u001b[0m",
      "\u001b[1;31mNameError\u001b[0m                                 Traceback (most recent call last)",
      "\u001b[1;32mc:\\Users\\lenovo\\Desktop\\statistics-2023\\description2.ipynb 单元格 3\u001b[0m line \u001b[0;36m1\n\u001b[1;32m----> <a href='vscode-notebook-cell:/c%3A/Users/lenovo/Desktop/statistics-2023/description2.ipynb#W3sZmlsZQ%3D%3D?line=0'>1</a>\u001b[0m mytools\u001b[39m.\u001b[39m绘制直方图(描述统计结果表)\n",
      "\u001b[1;31mNameError\u001b[0m: name '描述统计结果表' is not defined"
     ]
    }
   ],
   "source": [
    "mytools.绘制直方图(描述统计结果表)"
   ]
  },
  {
   "cell_type": "code",
   "execution_count": null,
   "metadata": {},
   "outputs": [],
   "source": [
    "df = pd.read_spss(R'data\\identity.sav')"
   ]
  },
  {
   "cell_type": "code",
   "execution_count": null,
   "metadata": {},
   "outputs": [
    {
     "ename": "AttributeError",
     "evalue": "module 'mytools' has no attribute '读取spss数据表文件'",
     "output_type": "error",
     "traceback": [
      "\u001b[1;31m---------------------------------------------------------------------------\u001b[0m",
      "\u001b[1;31mAttributeError\u001b[0m                            Traceback (most recent call last)",
      "\u001b[1;32mc:\\Users\\lenovo\\Desktop\\statistics-2023\\description2.ipynb 单元格 5\u001b[0m line \u001b[0;36m1\n\u001b[1;32m----> <a href='vscode-notebook-cell:/c%3A/Users/lenovo/Desktop/statistics-2023/description2.ipynb#W5sZmlsZQ%3D%3D?line=0'>1</a>\u001b[0m 数据表 \u001b[39m=\u001b[39m mytools\u001b[39m.\u001b[39;49m读取spss数据表文件(\u001b[39mR\u001b[39m\u001b[39m'\u001b[39m\u001b[39mdata\u001b[39m\u001b[39m\\\u001b[39m\u001b[39midentity.sav\u001b[39m\u001b[39m'\u001b[39m,\u001b[39mFalse\u001b[39;00m)\n",
      "\u001b[1;31mAttributeError\u001b[0m: module 'mytools' has no attribute '读取spss数据表文件'"
     ]
    }
   ],
   "source": [
    "数据表 = mytools.读取spss数据表文件(R'data\\identity.sav',False)"
   ]
  },
  {
   "cell_type": "code",
   "execution_count": null,
   "metadata": {},
   "outputs": [
    {
     "ename": "NameError",
     "evalue": "name '数据表' is not defined",
     "output_type": "error",
     "traceback": [
      "\u001b[1;31m---------------------------------------------------------------------------\u001b[0m",
      "\u001b[1;31mNameError\u001b[0m                                 Traceback (most recent call last)",
      "\u001b[1;32mc:\\Users\\lenovo\\Desktop\\statistics-2023\\description2.ipynb 单元格 6\u001b[0m line \u001b[0;36m2\n\u001b[0;32m      <a href='vscode-notebook-cell:/c%3A/Users/lenovo/Desktop/statistics-2023/description2.ipynb#W6sZmlsZQ%3D%3D?line=0'>1</a>\u001b[0m \u001b[39m# dataframe 变量生成\u001b[39;00m\n\u001b[1;32m----> <a href='vscode-notebook-cell:/c%3A/Users/lenovo/Desktop/statistics-2023/description2.ipynb#W6sZmlsZQ%3D%3D?line=1'>2</a>\u001b[0m 数据表[\u001b[39m'\u001b[39m\u001b[39m自豪感\u001b[39m\u001b[39m'\u001b[39m] \u001b[39m=\u001b[39m 数据表\u001b[39m.\u001b[39m会打多少分 \u001b[39m+\u001b[39m 数据表\u001b[39m.\u001b[39m您觉得中国怎么样\n",
      "\u001b[1;31mNameError\u001b[0m: name '数据表' is not defined"
     ]
    }
   ],
   "source": [
    "# dataframe 变量生成\n",
    "数据表['自豪感'] = 数据表.会打多少分 + 数据表.您觉得中国怎么样"
   ]
  },
  {
   "cell_type": "code",
   "execution_count": null,
   "metadata": {},
   "outputs": [
    {
     "ename": "NameError",
     "evalue": "name '数据表' is not defined",
     "output_type": "error",
     "traceback": [
      "\u001b[1;31m---------------------------------------------------------------------------\u001b[0m",
      "\u001b[1;31mNameError\u001b[0m                                 Traceback (most recent call last)",
      "\u001b[1;32mc:\\Users\\lenovo\\Desktop\\statistics-2023\\description2.ipynb 单元格 7\u001b[0m line \u001b[0;36m1\n\u001b[1;32m----> <a href='vscode-notebook-cell:/c%3A/Users/lenovo/Desktop/statistics-2023/description2.ipynb#X10sZmlsZQ%3D%3D?line=0'>1</a>\u001b[0m 数据表\u001b[39m.\u001b[39m自豪感\u001b[39m.\u001b[39mdesctibe()\n",
      "\u001b[1;31mNameError\u001b[0m: name '数据表' is not defined"
     ]
    }
   ],
   "source": [
    "数据表.自豪感.mode()"
   ]
  }
 ],
 "metadata": {
  "kernelspec": {
   "display_name": "Python 3",
   "language": "python",
   "name": "python3"
  },
  "language_info": {
   "codemirror_mode": {
    "name": "ipython",
    "version": 3
   },
   "file_extension": ".py",
   "mimetype": "text/x-python",
   "name": "python",
   "nbconvert_exporter": "python",
   "pygments_lexer": "ipython3",
   "version": "3.8.10"
  }
 },
 "nbformat": 4,
 "nbformat_minor": 2
}
